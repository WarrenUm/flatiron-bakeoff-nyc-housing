{
 "cells": [
  {
   "cell_type": "code",
   "execution_count": 1,
   "metadata": {},
   "outputs": [],
   "source": [
    "import pandas as pd\n",
    "import numpy as np\n",
    "import matplotlib.pyplot as plt\n",
    "from sklearn.linear_model import LinearRegression\n",
    "from sklearn.impute import SimpleImputer\n",
    "from sklearn.metrics import mean_squared_error\n",
    "from sklearn.model_selection import train_test_split\n",
    "import seaborn as sns\n",
    "import warnings\n",
    "warnings.filterwarnings(\"ignore\")"
   ]
  },
  {
   "cell_type": "code",
   "execution_count": 2,
   "metadata": {},
   "outputs": [],
   "source": [
    "df = pd.read_csv('flatiron-regression-housing/training.csv')"
   ]
  },
  {
   "cell_type": "code",
   "execution_count": 3,
   "metadata": {},
   "outputs": [
    {
     "data": {
      "text/html": [
       "<div>\n",
       "<style scoped>\n",
       "    .dataframe tbody tr th:only-of-type {\n",
       "        vertical-align: middle;\n",
       "    }\n",
       "\n",
       "    .dataframe tbody tr th {\n",
       "        vertical-align: top;\n",
       "    }\n",
       "\n",
       "    .dataframe thead th {\n",
       "        text-align: right;\n",
       "    }\n",
       "</style>\n",
       "<table border=\"1\" class=\"dataframe\">\n",
       "  <thead>\n",
       "    <tr style=\"text-align: right;\">\n",
       "      <th></th>\n",
       "      <th>id</th>\n",
       "      <th>BOROUGH</th>\n",
       "      <th>NEIGHBORHOOD</th>\n",
       "      <th>BUILDING CLASS CATEGORY</th>\n",
       "      <th>TAX CLASS AT PRESENT</th>\n",
       "      <th>BLOCK</th>\n",
       "      <th>LOT</th>\n",
       "      <th>EASE-MENT</th>\n",
       "      <th>BUILDING CLASS AT PRESENT</th>\n",
       "      <th>ADDRESS</th>\n",
       "      <th>...</th>\n",
       "      <th>RESIDENTIAL UNITS</th>\n",
       "      <th>COMMERCIAL UNITS</th>\n",
       "      <th>TOTAL UNITS</th>\n",
       "      <th>LAND SQUARE FEET</th>\n",
       "      <th>GROSS SQUARE FEET</th>\n",
       "      <th>YEAR BUILT</th>\n",
       "      <th>TAX CLASS AT TIME OF SALE</th>\n",
       "      <th>BUILDING CLASS AT TIME OF SALE</th>\n",
       "      <th>SALE DATE</th>\n",
       "      <th>SALE PRICE</th>\n",
       "    </tr>\n",
       "  </thead>\n",
       "  <tbody>\n",
       "    <tr>\n",
       "      <th>0</th>\n",
       "      <td>81477</td>\n",
       "      <td>5</td>\n",
       "      <td>PLEASANT PLAINS</td>\n",
       "      <td>01 ONE FAMILY DWELLINGS</td>\n",
       "      <td>1</td>\n",
       "      <td>7702</td>\n",
       "      <td>320</td>\n",
       "      <td></td>\n",
       "      <td>A5</td>\n",
       "      <td>66 CRANBERRY COURT</td>\n",
       "      <td>...</td>\n",
       "      <td>1</td>\n",
       "      <td>0</td>\n",
       "      <td>1</td>\n",
       "      <td>2744</td>\n",
       "      <td>1330</td>\n",
       "      <td>2002</td>\n",
       "      <td>1</td>\n",
       "      <td>A5</td>\n",
       "      <td>2017-03-24 00:00:00</td>\n",
       "      <td>414000</td>\n",
       "    </tr>\n",
       "    <tr>\n",
       "      <th>1</th>\n",
       "      <td>65088</td>\n",
       "      <td>4</td>\n",
       "      <td>JAMAICA HILLS</td>\n",
       "      <td>02 TWO FAMILY DWELLINGS</td>\n",
       "      <td>1</td>\n",
       "      <td>9847</td>\n",
       "      <td>12</td>\n",
       "      <td></td>\n",
       "      <td>B1</td>\n",
       "      <td>85-39 164TH STREET</td>\n",
       "      <td>...</td>\n",
       "      <td>2</td>\n",
       "      <td>0</td>\n",
       "      <td>2</td>\n",
       "      <td>2100</td>\n",
       "      <td>2415</td>\n",
       "      <td>1955</td>\n",
       "      <td>1</td>\n",
       "      <td>B1</td>\n",
       "      <td>2017-08-08 00:00:00</td>\n",
       "      <td>860000</td>\n",
       "    </tr>\n",
       "    <tr>\n",
       "      <th>2</th>\n",
       "      <td>66531</td>\n",
       "      <td>4</td>\n",
       "      <td>LONG ISLAND CITY</td>\n",
       "      <td>29 COMMERCIAL GARAGES</td>\n",
       "      <td>4</td>\n",
       "      <td>299</td>\n",
       "      <td>35</td>\n",
       "      <td></td>\n",
       "      <td>G1</td>\n",
       "      <td>31-11 GREENPOINT AVENUE</td>\n",
       "      <td>...</td>\n",
       "      <td>0</td>\n",
       "      <td>1</td>\n",
       "      <td>1</td>\n",
       "      <td>1858</td>\n",
       "      <td>1000</td>\n",
       "      <td>1931</td>\n",
       "      <td>4</td>\n",
       "      <td>G1</td>\n",
       "      <td>2016-11-18 00:00:00</td>\n",
       "      <td>-</td>\n",
       "    </tr>\n",
       "    <tr>\n",
       "      <th>3</th>\n",
       "      <td>43661</td>\n",
       "      <td>3</td>\n",
       "      <td>OCEAN PARKWAY-NORTH</td>\n",
       "      <td>10 COOPS - ELEVATOR APARTMENTS</td>\n",
       "      <td>2</td>\n",
       "      <td>6509</td>\n",
       "      <td>13</td>\n",
       "      <td></td>\n",
       "      <td>D4</td>\n",
       "      <td>825 OCEAN PARKWAY, 2J</td>\n",
       "      <td>...</td>\n",
       "      <td>0</td>\n",
       "      <td>0</td>\n",
       "      <td>0</td>\n",
       "      <td>0</td>\n",
       "      <td>0</td>\n",
       "      <td>1956</td>\n",
       "      <td>2</td>\n",
       "      <td>D4</td>\n",
       "      <td>2016-12-07 00:00:00</td>\n",
       "      <td>315000</td>\n",
       "    </tr>\n",
       "    <tr>\n",
       "      <th>4</th>\n",
       "      <td>2108</td>\n",
       "      <td>1</td>\n",
       "      <td>FINANCIAL</td>\n",
       "      <td>10 COOPS - ELEVATOR APARTMENTS</td>\n",
       "      <td>2</td>\n",
       "      <td>64</td>\n",
       "      <td>8</td>\n",
       "      <td></td>\n",
       "      <td>D4</td>\n",
       "      <td>55 LIBERTY STREET, 9A</td>\n",
       "      <td>...</td>\n",
       "      <td>0</td>\n",
       "      <td>0</td>\n",
       "      <td>0</td>\n",
       "      <td>-</td>\n",
       "      <td>-</td>\n",
       "      <td>1911</td>\n",
       "      <td>2</td>\n",
       "      <td>D4</td>\n",
       "      <td>2017-02-09 00:00:00</td>\n",
       "      <td>999000</td>\n",
       "    </tr>\n",
       "  </tbody>\n",
       "</table>\n",
       "<p>5 rows × 22 columns</p>\n",
       "</div>"
      ],
      "text/plain": [
       "      id  BOROUGH         NEIGHBORHOOD  \\\n",
       "0  81477        5      PLEASANT PLAINS   \n",
       "1  65088        4        JAMAICA HILLS   \n",
       "2  66531        4     LONG ISLAND CITY   \n",
       "3  43661        3  OCEAN PARKWAY-NORTH   \n",
       "4   2108        1            FINANCIAL   \n",
       "\n",
       "                       BUILDING CLASS CATEGORY TAX CLASS AT PRESENT  BLOCK  \\\n",
       "0  01 ONE FAMILY DWELLINGS                                        1   7702   \n",
       "1  02 TWO FAMILY DWELLINGS                                        1   9847   \n",
       "2  29 COMMERCIAL GARAGES                                          4    299   \n",
       "3  10 COOPS - ELEVATOR APARTMENTS                                 2   6509   \n",
       "4  10 COOPS - ELEVATOR APARTMENTS                                 2     64   \n",
       "\n",
       "   LOT EASE-MENT BUILDING CLASS AT PRESENT                  ADDRESS  ...  \\\n",
       "0  320                                  A5       66 CRANBERRY COURT  ...   \n",
       "1   12                                  B1       85-39 164TH STREET  ...   \n",
       "2   35                                  G1  31-11 GREENPOINT AVENUE  ...   \n",
       "3   13                                  D4    825 OCEAN PARKWAY, 2J  ...   \n",
       "4    8                                  D4    55 LIBERTY STREET, 9A  ...   \n",
       "\n",
       "  RESIDENTIAL UNITS  COMMERCIAL UNITS  TOTAL UNITS  LAND SQUARE FEET  \\\n",
       "0                 1                 0            1              2744   \n",
       "1                 2                 0            2              2100   \n",
       "2                 0                 1            1              1858   \n",
       "3                 0                 0            0                 0   \n",
       "4                 0                 0            0               -     \n",
       "\n",
       "   GROSS SQUARE FEET YEAR BUILT TAX CLASS AT TIME OF SALE  \\\n",
       "0               1330       2002                         1   \n",
       "1               2415       1955                         1   \n",
       "2               1000       1931                         4   \n",
       "3                  0       1956                         2   \n",
       "4                -         1911                         2   \n",
       "\n",
       "   BUILDING CLASS AT TIME OF SALE            SALE DATE SALE PRICE  \n",
       "0                              A5  2017-03-24 00:00:00     414000  \n",
       "1                              B1  2017-08-08 00:00:00     860000  \n",
       "2                              G1  2016-11-18 00:00:00        -    \n",
       "3                              D4  2016-12-07 00:00:00     315000  \n",
       "4                              D4  2017-02-09 00:00:00     999000  \n",
       "\n",
       "[5 rows x 22 columns]"
      ]
     },
     "execution_count": 3,
     "metadata": {},
     "output_type": "execute_result"
    }
   ],
   "source": [
    "df.head()"
   ]
  },
  {
   "cell_type": "code",
   "execution_count": 4,
   "metadata": {},
   "outputs": [
    {
     "name": "stdout",
     "output_type": "stream",
     "text": [
      "<class 'pandas.core.frame.DataFrame'>\n",
      "RangeIndex: 63411 entries, 0 to 63410\n",
      "Data columns (total 22 columns):\n",
      " #   Column                          Non-Null Count  Dtype \n",
      "---  ------                          --------------  ----- \n",
      " 0   id                              63411 non-null  int64 \n",
      " 1   BOROUGH                         63411 non-null  int64 \n",
      " 2   NEIGHBORHOOD                    63411 non-null  object\n",
      " 3   BUILDING CLASS CATEGORY         63411 non-null  object\n",
      " 4   TAX CLASS AT PRESENT            63411 non-null  object\n",
      " 5   BLOCK                           63411 non-null  int64 \n",
      " 6   LOT                             63411 non-null  int64 \n",
      " 7   EASE-MENT                       63411 non-null  object\n",
      " 8   BUILDING CLASS AT PRESENT       63411 non-null  object\n",
      " 9   ADDRESS                         63411 non-null  object\n",
      " 10  APARTMENT NUMBER                63411 non-null  object\n",
      " 11  ZIP CODE                        63411 non-null  int64 \n",
      " 12  RESIDENTIAL UNITS               63411 non-null  int64 \n",
      " 13  COMMERCIAL UNITS                63411 non-null  int64 \n",
      " 14  TOTAL UNITS                     63411 non-null  int64 \n",
      " 15  LAND SQUARE FEET                63411 non-null  object\n",
      " 16  GROSS SQUARE FEET               63411 non-null  object\n",
      " 17  YEAR BUILT                      63411 non-null  int64 \n",
      " 18  TAX CLASS AT TIME OF SALE       63411 non-null  int64 \n",
      " 19  BUILDING CLASS AT TIME OF SALE  63411 non-null  object\n",
      " 20  SALE DATE                       63411 non-null  object\n",
      " 21  SALE PRICE                      63411 non-null  object\n",
      "dtypes: int64(10), object(12)\n",
      "memory usage: 10.6+ MB\n"
     ]
    }
   ],
   "source": [
    "df.info()"
   ]
  },
  {
   "cell_type": "code",
   "execution_count": 5,
   "metadata": {},
   "outputs": [],
   "source": [
    "df = df.replace(' -  ', np.nan)\n",
    "\n",
    "df = df.dropna(subset=['SALE PRICE'])"
   ]
  },
  {
   "cell_type": "code",
   "execution_count": 6,
   "metadata": {},
   "outputs": [
    {
     "name": "stdout",
     "output_type": "stream",
     "text": [
      "<class 'pandas.core.frame.DataFrame'>\n",
      "Int64Index: 52451 entries, 0 to 63410\n",
      "Data columns (total 22 columns):\n",
      " #   Column                          Non-Null Count  Dtype \n",
      "---  ------                          --------------  ----- \n",
      " 0   id                              52451 non-null  int64 \n",
      " 1   BOROUGH                         52451 non-null  int64 \n",
      " 2   NEIGHBORHOOD                    52451 non-null  object\n",
      " 3   BUILDING CLASS CATEGORY         52451 non-null  object\n",
      " 4   TAX CLASS AT PRESENT            52451 non-null  object\n",
      " 5   BLOCK                           52451 non-null  int64 \n",
      " 6   LOT                             52451 non-null  int64 \n",
      " 7   EASE-MENT                       52451 non-null  object\n",
      " 8   BUILDING CLASS AT PRESENT       52451 non-null  object\n",
      " 9   ADDRESS                         52451 non-null  object\n",
      " 10  APARTMENT NUMBER                52451 non-null  object\n",
      " 11  ZIP CODE                        52451 non-null  int64 \n",
      " 12  RESIDENTIAL UNITS               52451 non-null  int64 \n",
      " 13  COMMERCIAL UNITS                52451 non-null  int64 \n",
      " 14  TOTAL UNITS                     52451 non-null  int64 \n",
      " 15  LAND SQUARE FEET                52451 non-null  int64 \n",
      " 16  GROSS SQUARE FEET               52451 non-null  int64 \n",
      " 17  YEAR BUILT                      52451 non-null  int64 \n",
      " 18  TAX CLASS AT TIME OF SALE       52451 non-null  int64 \n",
      " 19  BUILDING CLASS AT TIME OF SALE  52451 non-null  object\n",
      " 20  SALE DATE                       52451 non-null  object\n",
      " 21  SALE PRICE                      52451 non-null  int64 \n",
      "dtypes: int64(13), object(9)\n",
      "memory usage: 9.2+ MB\n"
     ]
    }
   ],
   "source": [
    "#prices to int\n",
    "df['SALE PRICE'] = df['SALE PRICE'].map(lambda x: int(x))\n",
    "df['LAND SQUARE FEET'] = df['SALE PRICE'].map(lambda x: int(x))\n",
    "df['GROSS SQUARE FEET'] = df['SALE PRICE'].map(lambda x: int(x))\n",
    "\n",
    "df.info()\n"
   ]
  },
  {
   "cell_type": "code",
   "execution_count": 7,
   "metadata": {},
   "outputs": [
    {
     "data": {
      "text/plain": [
       "id                                0\n",
       "BOROUGH                           0\n",
       "NEIGHBORHOOD                      0\n",
       "BUILDING CLASS CATEGORY           0\n",
       "TAX CLASS AT PRESENT              0\n",
       "BLOCK                             0\n",
       "LOT                               0\n",
       "EASE-MENT                         0\n",
       "BUILDING CLASS AT PRESENT         0\n",
       "ADDRESS                           0\n",
       "APARTMENT NUMBER                  0\n",
       "ZIP CODE                          0\n",
       "RESIDENTIAL UNITS                 0\n",
       "COMMERCIAL UNITS                  0\n",
       "TOTAL UNITS                       0\n",
       "LAND SQUARE FEET                  0\n",
       "GROSS SQUARE FEET                 0\n",
       "YEAR BUILT                        0\n",
       "TAX CLASS AT TIME OF SALE         0\n",
       "BUILDING CLASS AT TIME OF SALE    0\n",
       "SALE DATE                         0\n",
       "SALE PRICE                        0\n",
       "dtype: int64"
      ]
     },
     "execution_count": 7,
     "metadata": {},
     "output_type": "execute_result"
    }
   ],
   "source": [
    "df.isna().sum()"
   ]
  },
  {
   "cell_type": "code",
   "execution_count": 8,
   "metadata": {},
   "outputs": [
    {
     "data": {
      "text/plain": [
       "<AxesSubplot:>"
      ]
     },
     "execution_count": 8,
     "metadata": {},
     "output_type": "execute_result"
    },
    {
     "data": {
      "image/png": "[encoded data removed]",
      "text/plain": [
       "<Figure size 432x288 with 2 Axes>"
      ]
     },
     "metadata": {
      "needs_background": "light"
     },
     "output_type": "display_data"
    }
   ],
   "source": [
    "cor = df.corr()\n",
    "sns.heatmap(cor,annot=True)"
   ]
  },
  {
   "cell_type": "code",
   "execution_count": 9,
   "metadata": {},
   "outputs": [],
   "source": [
    "from sklearn.model_selection import train_test_split"
   ]
  },
  {
   "cell_type": "markdown",
   "metadata": {},
   "source": [
    "- numerical: Borough, Tax class, block, lot, building class, res unit, com units (datatypes!), tot units, lsqft, gsqft, year built, tax class at sale, build class at sale, sale date, price"
   ]
  },
  {
   "cell_type": "code",
   "execution_count": 10,
   "metadata": {},
   "outputs": [],
   "source": [
    "#target is sale price\n",
    "#predictors are:\n",
    "preds = ['BOROUGH','BLOCK','LOT','ZIP CODE','RESIDENTIAL UNITS','COMMERCIAL UNITS','TOTAL UNITS','YEAR BUILT']\n",
    "\n",
    "X = df[preds]\n",
    "y = df['SALE PRICE']\n",
    "\n",
    "X_train, X_test, y_train, y_test = train_test_split(X,y,random_state=1)"
   ]
  },
  {
   "cell_type": "code",
   "execution_count": 11,
   "metadata": {},
   "outputs": [],
   "source": [
    "linreg = LinearRegression()"
   ]
  },
  {
   "cell_type": "code",
   "execution_count": 12,
   "metadata": {},
   "outputs": [
    {
     "data": {
      "text/plain": [
       "LinearRegression()"
      ]
     },
     "execution_count": 12,
     "metadata": {},
     "output_type": "execute_result"
    }
   ],
   "source": [
    "linreg.fit(X_train,y_train)"
   ]
  },
  {
   "cell_type": "code",
   "execution_count": 13,
   "metadata": {},
   "outputs": [],
   "source": [
    "train_pred = linreg.predict(X_train)\n",
    "\n",
    "test_pred = linreg.predict(X_test)"
   ]
  },
  {
   "cell_type": "code",
   "execution_count": 14,
   "metadata": {},
   "outputs": [
    {
     "name": "stdout",
     "output_type": "stream",
     "text": [
      "Train score: 50264158661506.54\n",
      "Test score: 85585592159131.5\n"
     ]
    }
   ],
   "source": [
    "train_score = mean_squared_error(y_train, train_pred)\n",
    "test_score = mean_squared_error(y_test, test_pred)\n",
    "\n",
    "print('Train score:', train_score)\n",
    "print('Test score:', test_score)"
   ]
  },
  {
   "cell_type": "code",
   "execution_count": 15,
   "metadata": {},
   "outputs": [
    {
     "name": "stdout",
     "output_type": "stream",
     "text": [
      "dif: 35321433497624.96\n"
     ]
    },
    {
     "data": {
      "image/png": "[encoded data removed]",
      "text/plain": [
       "<Figure size 432x288 with 1 Axes>"
      ]
     },
     "metadata": {
      "needs_background": "light"
     },
     "output_type": "display_data"
    }
   ],
   "source": [
    "sns.barplot(['Train', 'Test'], [train_score, test_score]);\n",
    "print('dif: {}'.format(test_score-train_score))"
   ]
  },
  {
   "cell_type": "code",
   "execution_count": null,
   "metadata": {},
   "outputs": [],
   "source": []
  },
  {
   "cell_type": "code",
   "execution_count": 16,
   "metadata": {},
   "outputs": [],
   "source": [
    "neighborhoods = df['NEIGHBORHOOD'].unique()\n",
    "neighborhoods_series = pd.Series(neighborhoods)\n",
    "neighborhoods_cat = neighborhoods_series.astype('category')"
   ]
  },
  {
   "cell_type": "code",
   "execution_count": 17,
   "metadata": {},
   "outputs": [],
   "source": [
    "#try to label encode neighborhood\n",
    "from sklearn.preprocessing import LabelEncoder\n",
    "lb_make = LabelEncoder()\n",
    "\n",
    "neighborhood_encode = lb_make.fit(neighborhoods_cat)\n",
    "\n",
    "df['NEIGHBORHOOD'] = neighborhood_encode.transform(df['NEIGHBORHOOD'])"
   ]
  },
  {
   "cell_type": "code",
   "execution_count": 18,
   "metadata": {},
   "outputs": [
    {
     "data": {
      "text/html": [
       "<div>\n",
       "<style scoped>\n",
       "    .dataframe tbody tr th:only-of-type {\n",
       "        vertical-align: middle;\n",
       "    }\n",
       "\n",
       "    .dataframe tbody tr th {\n",
       "        vertical-align: top;\n",
       "    }\n",
       "\n",
       "    .dataframe thead th {\n",
       "        text-align: right;\n",
       "    }\n",
       "</style>\n",
       "<table border=\"1\" class=\"dataframe\">\n",
       "  <thead>\n",
       "    <tr style=\"text-align: right;\">\n",
       "      <th></th>\n",
       "      <th>id</th>\n",
       "      <th>BOROUGH</th>\n",
       "      <th>NEIGHBORHOOD</th>\n",
       "      <th>BUILDING CLASS CATEGORY</th>\n",
       "      <th>TAX CLASS AT PRESENT</th>\n",
       "      <th>BLOCK</th>\n",
       "      <th>LOT</th>\n",
       "      <th>EASE-MENT</th>\n",
       "      <th>BUILDING CLASS AT PRESENT</th>\n",
       "      <th>ADDRESS</th>\n",
       "      <th>...</th>\n",
       "      <th>RESIDENTIAL UNITS</th>\n",
       "      <th>COMMERCIAL UNITS</th>\n",
       "      <th>TOTAL UNITS</th>\n",
       "      <th>LAND SQUARE FEET</th>\n",
       "      <th>GROSS SQUARE FEET</th>\n",
       "      <th>YEAR BUILT</th>\n",
       "      <th>TAX CLASS AT TIME OF SALE</th>\n",
       "      <th>BUILDING CLASS AT TIME OF SALE</th>\n",
       "      <th>SALE DATE</th>\n",
       "      <th>SALE PRICE</th>\n",
       "    </tr>\n",
       "  </thead>\n",
       "  <tbody>\n",
       "    <tr>\n",
       "      <th>0</th>\n",
       "      <td>81477</td>\n",
       "      <td>5</td>\n",
       "      <td>183</td>\n",
       "      <td>01 ONE FAMILY DWELLINGS</td>\n",
       "      <td>1</td>\n",
       "      <td>7702</td>\n",
       "      <td>320</td>\n",
       "      <td></td>\n",
       "      <td>A5</td>\n",
       "      <td>66 CRANBERRY COURT</td>\n",
       "      <td>...</td>\n",
       "      <td>1</td>\n",
       "      <td>0</td>\n",
       "      <td>1</td>\n",
       "      <td>414000</td>\n",
       "      <td>414000</td>\n",
       "      <td>2002</td>\n",
       "      <td>1</td>\n",
       "      <td>A5</td>\n",
       "      <td>2017-03-24 00:00:00</td>\n",
       "      <td>414000</td>\n",
       "    </tr>\n",
       "    <tr>\n",
       "      <th>1</th>\n",
       "      <td>65088</td>\n",
       "      <td>4</td>\n",
       "      <td>126</td>\n",
       "      <td>02 TWO FAMILY DWELLINGS</td>\n",
       "      <td>1</td>\n",
       "      <td>9847</td>\n",
       "      <td>12</td>\n",
       "      <td></td>\n",
       "      <td>B1</td>\n",
       "      <td>85-39 164TH STREET</td>\n",
       "      <td>...</td>\n",
       "      <td>2</td>\n",
       "      <td>0</td>\n",
       "      <td>2</td>\n",
       "      <td>860000</td>\n",
       "      <td>860000</td>\n",
       "      <td>1955</td>\n",
       "      <td>1</td>\n",
       "      <td>B1</td>\n",
       "      <td>2017-08-08 00:00:00</td>\n",
       "      <td>860000</td>\n",
       "    </tr>\n",
       "    <tr>\n",
       "      <th>3</th>\n",
       "      <td>43661</td>\n",
       "      <td>3</td>\n",
       "      <td>172</td>\n",
       "      <td>10 COOPS - ELEVATOR APARTMENTS</td>\n",
       "      <td>2</td>\n",
       "      <td>6509</td>\n",
       "      <td>13</td>\n",
       "      <td></td>\n",
       "      <td>D4</td>\n",
       "      <td>825 OCEAN PARKWAY, 2J</td>\n",
       "      <td>...</td>\n",
       "      <td>0</td>\n",
       "      <td>0</td>\n",
       "      <td>0</td>\n",
       "      <td>315000</td>\n",
       "      <td>315000</td>\n",
       "      <td>1956</td>\n",
       "      <td>2</td>\n",
       "      <td>D4</td>\n",
       "      <td>2016-12-07 00:00:00</td>\n",
       "      <td>315000</td>\n",
       "    </tr>\n",
       "    <tr>\n",
       "      <th>4</th>\n",
       "      <td>2108</td>\n",
       "      <td>1</td>\n",
       "      <td>78</td>\n",
       "      <td>10 COOPS - ELEVATOR APARTMENTS</td>\n",
       "      <td>2</td>\n",
       "      <td>64</td>\n",
       "      <td>8</td>\n",
       "      <td></td>\n",
       "      <td>D4</td>\n",
       "      <td>55 LIBERTY STREET, 9A</td>\n",
       "      <td>...</td>\n",
       "      <td>0</td>\n",
       "      <td>0</td>\n",
       "      <td>0</td>\n",
       "      <td>999000</td>\n",
       "      <td>999000</td>\n",
       "      <td>1911</td>\n",
       "      <td>2</td>\n",
       "      <td>D4</td>\n",
       "      <td>2017-02-09 00:00:00</td>\n",
       "      <td>999000</td>\n",
       "    </tr>\n",
       "    <tr>\n",
       "      <th>5</th>\n",
       "      <td>56549</td>\n",
       "      <td>4</td>\n",
       "      <td>87</td>\n",
       "      <td>01 ONE FAMILY DWELLINGS</td>\n",
       "      <td>1</td>\n",
       "      <td>5602</td>\n",
       "      <td>37</td>\n",
       "      <td></td>\n",
       "      <td>A1</td>\n",
       "      <td>46-16 190TH STREET</td>\n",
       "      <td>...</td>\n",
       "      <td>1</td>\n",
       "      <td>0</td>\n",
       "      <td>1</td>\n",
       "      <td>760000</td>\n",
       "      <td>760000</td>\n",
       "      <td>1930</td>\n",
       "      <td>1</td>\n",
       "      <td>A1</td>\n",
       "      <td>2017-06-06 00:00:00</td>\n",
       "      <td>760000</td>\n",
       "    </tr>\n",
       "  </tbody>\n",
       "</table>\n",
       "<p>5 rows × 22 columns</p>\n",
       "</div>"
      ],
      "text/plain": [
       "      id  BOROUGH  NEIGHBORHOOD                      BUILDING CLASS CATEGORY  \\\n",
       "0  81477        5           183  01 ONE FAMILY DWELLINGS                       \n",
       "1  65088        4           126  02 TWO FAMILY DWELLINGS                       \n",
       "3  43661        3           172  10 COOPS - ELEVATOR APARTMENTS                \n",
       "4   2108        1            78  10 COOPS - ELEVATOR APARTMENTS                \n",
       "5  56549        4            87  01 ONE FAMILY DWELLINGS                       \n",
       "\n",
       "  TAX CLASS AT PRESENT  BLOCK  LOT EASE-MENT BUILDING CLASS AT PRESENT  \\\n",
       "0                    1   7702  320                                  A5   \n",
       "1                    1   9847   12                                  B1   \n",
       "3                    2   6509   13                                  D4   \n",
       "4                    2     64    8                                  D4   \n",
       "5                    1   5602   37                                  A1   \n",
       "\n",
       "                 ADDRESS  ... RESIDENTIAL UNITS  COMMERCIAL UNITS  \\\n",
       "0     66 CRANBERRY COURT  ...                 1                 0   \n",
       "1     85-39 164TH STREET  ...                 2                 0   \n",
       "3  825 OCEAN PARKWAY, 2J  ...                 0                 0   \n",
       "4  55 LIBERTY STREET, 9A  ...                 0                 0   \n",
       "5     46-16 190TH STREET  ...                 1                 0   \n",
       "\n",
       "   TOTAL UNITS  LAND SQUARE FEET  GROSS SQUARE FEET  YEAR BUILT  \\\n",
       "0            1            414000             414000        2002   \n",
       "1            2            860000             860000        1955   \n",
       "3            0            315000             315000        1956   \n",
       "4            0            999000             999000        1911   \n",
       "5            1            760000             760000        1930   \n",
       "\n",
       "   TAX CLASS AT TIME OF SALE  BUILDING CLASS AT TIME OF SALE  \\\n",
       "0                          1                              A5   \n",
       "1                          1                              B1   \n",
       "3                          2                              D4   \n",
       "4                          2                              D4   \n",
       "5                          1                              A1   \n",
       "\n",
       "             SALE DATE SALE PRICE  \n",
       "0  2017-03-24 00:00:00     414000  \n",
       "1  2017-08-08 00:00:00     860000  \n",
       "3  2016-12-07 00:00:00     315000  \n",
       "4  2017-02-09 00:00:00     999000  \n",
       "5  2017-06-06 00:00:00     760000  \n",
       "\n",
       "[5 rows x 22 columns]"
      ]
     },
     "execution_count": 18,
     "metadata": {},
     "output_type": "execute_result"
    }
   ],
   "source": [
    "#add the encoded column and drop the original\n",
    "df.head()"
   ]
  },
  {
   "cell_type": "code",
   "execution_count": 19,
   "metadata": {},
   "outputs": [],
   "source": [
    "#new train test set\n",
    "preds = ['NEIGHBORHOOD','BOROUGH','ZIP CODE','TOTAL UNITS','YEAR BUILT','GROSS SQUARE FEET']\n",
    "\n",
    "X = df[preds]\n",
    "y = df['SALE PRICE']\n",
    "\n",
    "X_train, X_test, y_train, y_test = train_test_split(X,y,random_state=1)"
   ]
  },
  {
   "cell_type": "code",
   "execution_count": 20,
   "metadata": {},
   "outputs": [],
   "source": [
    "linreg = LinearRegression()"
   ]
  },
  {
   "cell_type": "code",
   "execution_count": 21,
   "metadata": {},
   "outputs": [
    {
     "data": {
      "text/plain": [
       "LinearRegression()"
      ]
     },
     "execution_count": 21,
     "metadata": {},
     "output_type": "execute_result"
    }
   ],
   "source": [
    "linreg.fit(X_train,y_train)"
   ]
  },
  {
   "cell_type": "code",
   "execution_count": 22,
   "metadata": {},
   "outputs": [],
   "source": [
    "train_pred = linreg.predict(X_train)\n",
    "\n",
    "test_pred = linreg.predict(X_test)"
   ]
  },
  {
   "cell_type": "code",
   "execution_count": 23,
   "metadata": {},
   "outputs": [
    {
     "name": "stdout",
     "output_type": "stream",
     "text": [
      "Train score: 3.0034667629585885e-16\n",
      "Test score: 3.1713387325771587e-16\n"
     ]
    }
   ],
   "source": [
    "train_score = mean_squared_error(y_train, train_pred)\n",
    "test_score = mean_squared_error(y_test, test_pred)\n",
    "\n",
    "neigh_encode_diff = abs(test_score-train_score)\n",
    "\n",
    "print('Train score:', train_score)\n",
    "print('Test score:', test_score)"
   ]
  },
  {
   "cell_type": "code",
   "execution_count": 24,
   "metadata": {},
   "outputs": [
    {
     "name": "stdout",
     "output_type": "stream",
     "text": [
      "dif: 1.6787196961857022e-17\n"
     ]
    },
    {
     "data": {
      "image/png": "[encoded data removed]",
      "text/plain": [
       "<Figure size 432x288 with 1 Axes>"
      ]
     },
     "metadata": {
      "needs_background": "light"
     },
     "output_type": "display_data"
    }
   ],
   "source": [
    "sns.barplot(['Train', 'Test'], [train_score, test_score]);\n",
    "print('dif: {}'.format(test_score-train_score))"
   ]
  },
  {
   "cell_type": "code",
   "execution_count": null,
   "metadata": {},
   "outputs": [],
   "source": []
  },
  {
   "cell_type": "code",
   "execution_count": 25,
   "metadata": {},
   "outputs": [],
   "source": [
    "# #try a poly reg\n",
    "# from sklearn.preprocessing import PolynomialFeatures\n",
    "# poly = PolynomialFeatures(2)"
   ]
  },
  {
   "cell_type": "code",
   "execution_count": 26,
   "metadata": {},
   "outputs": [],
   "source": [
    "\n",
    "# X_train_poly = poly.fit_transform(X_train)\n",
    "# X_test_poly = poly.fit_transform(X_test)"
   ]
  },
  {
   "cell_type": "code",
   "execution_count": 27,
   "metadata": {},
   "outputs": [],
   "source": [
    "# polyreg = LinearRegression()\n",
    "# polyreg.fit(X_train_poly, y_train)\n"
   ]
  },
  {
   "cell_type": "code",
   "execution_count": 28,
   "metadata": {},
   "outputs": [],
   "source": [
    "# # Training set predictions\n",
    "# poly_train_preds = polyreg.predict(X_train_poly)\n",
    "\n",
    "# # Test set predictions \n",
    "# poly_test_preds = polyreg.predict(X_test_poly)\n"
   ]
  },
  {
   "cell_type": "code",
   "execution_count": 29,
   "metadata": {},
   "outputs": [],
   "source": [
    "# train_score = mean_squared_error(y_train, poly_train_preds)\n",
    "# test_score = mean_squared_error(y_test, poly_test_preds)\n",
    "\n",
    "# poly_diff = abs(test_score-train_score)\n"
   ]
  },
  {
   "cell_type": "code",
   "execution_count": 30,
   "metadata": {},
   "outputs": [],
   "source": [
    "# sns.barplot(['Train', 'Test'], [train_score, test_score]);\n",
    "# print('dif: {}'.format(test_score-train_score))"
   ]
  },
  {
   "cell_type": "code",
   "execution_count": 31,
   "metadata": {},
   "outputs": [],
   "source": [
    "# plt.figure(figsize=(8, 5))\n",
    "# plt.scatter(y_train, poly_train_preds, label='Model')\n",
    "# plt.plot(y_train, y_train, label='Actual data')\n",
    "# plt.title('Model vs data for training set')\n",
    "# plt.legend();\n"
   ]
  },
  {
   "cell_type": "code",
   "execution_count": 32,
   "metadata": {},
   "outputs": [],
   "source": [
    "# if neigh_encode_diff > poly_diff:\n",
    "#     print('polynomial model is better')\n",
    "# else:\n",
    "#     print('neighborhood encode is better')"
   ]
  },
  {
   "cell_type": "code",
   "execution_count": 33,
   "metadata": {},
   "outputs": [],
   "source": [
    "#remove potential collinear features\n",
    "#new train test set\n",
    "preds = ['NEIGHBORHOOD','YEAR BUILT','GROSS SQUARE FEET']\n",
    "\n",
    "X = df[preds]\n",
    "y = df['SALE PRICE']\n",
    "\n",
    "X_train, X_test, y_train, y_test = train_test_split(X,y,random_state=1)"
   ]
  },
  {
   "cell_type": "code",
   "execution_count": 34,
   "metadata": {},
   "outputs": [
    {
     "data": {
      "text/html": [
       "<div>\n",
       "<style scoped>\n",
       "    .dataframe tbody tr th:only-of-type {\n",
       "        vertical-align: middle;\n",
       "    }\n",
       "\n",
       "    .dataframe tbody tr th {\n",
       "        vertical-align: top;\n",
       "    }\n",
       "\n",
       "    .dataframe thead th {\n",
       "        text-align: right;\n",
       "    }\n",
       "</style>\n",
       "<table border=\"1\" class=\"dataframe\">\n",
       "  <thead>\n",
       "    <tr style=\"text-align: right;\">\n",
       "      <th></th>\n",
       "      <th>NEIGHBORHOOD</th>\n",
       "      <th>YEAR BUILT</th>\n",
       "      <th>GROSS SQUARE FEET</th>\n",
       "    </tr>\n",
       "  </thead>\n",
       "  <tbody>\n",
       "    <tr>\n",
       "      <th>32332</th>\n",
       "      <td>130</td>\n",
       "      <td>1950</td>\n",
       "      <td>85000</td>\n",
       "    </tr>\n",
       "    <tr>\n",
       "      <th>37209</th>\n",
       "      <td>135</td>\n",
       "      <td>1915</td>\n",
       "      <td>1600000</td>\n",
       "    </tr>\n",
       "    <tr>\n",
       "      <th>32160</th>\n",
       "      <td>212</td>\n",
       "      <td>1925</td>\n",
       "      <td>440000</td>\n",
       "    </tr>\n",
       "    <tr>\n",
       "      <th>31117</th>\n",
       "      <td>242</td>\n",
       "      <td>1905</td>\n",
       "      <td>375000</td>\n",
       "    </tr>\n",
       "    <tr>\n",
       "      <th>60421</th>\n",
       "      <td>66</td>\n",
       "      <td>1925</td>\n",
       "      <td>435527</td>\n",
       "    </tr>\n",
       "    <tr>\n",
       "      <th>...</th>\n",
       "      <td>...</td>\n",
       "      <td>...</td>\n",
       "      <td>...</td>\n",
       "    </tr>\n",
       "    <tr>\n",
       "      <th>60524</th>\n",
       "      <td>43</td>\n",
       "      <td>1915</td>\n",
       "      <td>10725000</td>\n",
       "    </tr>\n",
       "    <tr>\n",
       "      <th>39356</th>\n",
       "      <td>238</td>\n",
       "      <td>1899</td>\n",
       "      <td>580000</td>\n",
       "    </tr>\n",
       "    <tr>\n",
       "      <th>6259</th>\n",
       "      <td>177</td>\n",
       "      <td>0</td>\n",
       "      <td>1125000</td>\n",
       "    </tr>\n",
       "    <tr>\n",
       "      <th>14771</th>\n",
       "      <td>111</td>\n",
       "      <td>1910</td>\n",
       "      <td>2475000</td>\n",
       "    </tr>\n",
       "    <tr>\n",
       "      <th>39946</th>\n",
       "      <td>132</td>\n",
       "      <td>0</td>\n",
       "      <td>880000</td>\n",
       "    </tr>\n",
       "  </tbody>\n",
       "</table>\n",
       "<p>39338 rows × 3 columns</p>\n",
       "</div>"
      ],
      "text/plain": [
       "       NEIGHBORHOOD  YEAR BUILT  GROSS SQUARE FEET\n",
       "32332           130        1950              85000\n",
       "37209           135        1915            1600000\n",
       "32160           212        1925             440000\n",
       "31117           242        1905             375000\n",
       "60421            66        1925             435527\n",
       "...             ...         ...                ...\n",
       "60524            43        1915           10725000\n",
       "39356           238        1899             580000\n",
       "6259            177           0            1125000\n",
       "14771           111        1910            2475000\n",
       "39946           132           0             880000\n",
       "\n",
       "[39338 rows x 3 columns]"
      ]
     },
     "execution_count": 34,
     "metadata": {},
     "output_type": "execute_result"
    }
   ],
   "source": [
    "X_train"
   ]
  },
  {
   "cell_type": "code",
   "execution_count": 35,
   "metadata": {},
   "outputs": [],
   "source": [
    "linreg = LinearRegression()"
   ]
  },
  {
   "cell_type": "code",
   "execution_count": 36,
   "metadata": {},
   "outputs": [
    {
     "data": {
      "text/plain": [
       "LinearRegression()"
      ]
     },
     "execution_count": 36,
     "metadata": {},
     "output_type": "execute_result"
    }
   ],
   "source": [
    "linreg.fit(X_train,y_train)"
   ]
  },
  {
   "cell_type": "code",
   "execution_count": 37,
   "metadata": {},
   "outputs": [],
   "source": [
    "train_pred = linreg.predict(X_train)\n",
    "\n",
    "test_pred = linreg.predict(X_test)\n"
   ]
  },
  {
   "cell_type": "code",
   "execution_count": 38,
   "metadata": {},
   "outputs": [
    {
     "name": "stdout",
     "output_type": "stream",
     "text": [
      "Train score: 1.1625735570947056e-16\n",
      "Test score: 1.0102703381018605e-16\n"
     ]
    }
   ],
   "source": [
    "train_score = mean_squared_error(y_train, train_pred)\n",
    "test_score = mean_squared_error(y_test, test_pred)\n",
    "\n",
    "neigh_encode_diff = abs(test_score-train_score)\n",
    "\n",
    "print('Train score:', train_score)\n",
    "print('Test score:', test_score)"
   ]
  },
  {
   "cell_type": "code",
   "execution_count": 39,
   "metadata": {},
   "outputs": [
    {
     "name": "stdout",
     "output_type": "stream",
     "text": [
      "dif: -1.523032189928451e-17\n"
     ]
    },
    {
     "data": {
      "image/png": "[encoded data removed]",
      "text/plain": [
       "<Figure size 432x288 with 1 Axes>"
      ]
     },
     "metadata": {
      "needs_background": "light"
     },
     "output_type": "display_data"
    }
   ],
   "source": [
    "sns.barplot(['Train', 'Test'], [train_score, test_score]);\n",
    "print('dif: {}'.format(test_score-train_score))"
   ]
  },
  {
   "cell_type": "code",
   "execution_count": null,
   "metadata": {},
   "outputs": [],
   "source": []
  },
  {
   "cell_type": "code",
   "execution_count": null,
   "metadata": {},
   "outputs": [],
   "source": []
  },
  {
   "cell_type": "code",
   "execution_count": 40,
   "metadata": {},
   "outputs": [],
   "source": [
    "#testing\n",
    "test_df = pd.read_csv('flatiron-regression-housing/testing.csv')"
   ]
  },
  {
   "cell_type": "code",
   "execution_count": 41,
   "metadata": {},
   "outputs": [],
   "source": [
    "test_df = test_df.replace(' -  ', np.nan)"
   ]
  },
  {
   "cell_type": "code",
   "execution_count": 42,
   "metadata": {},
   "outputs": [
    {
     "data": {
      "text/plain": [
       "530725.0"
      ]
     },
     "execution_count": 42,
     "metadata": {},
     "output_type": "execute_result"
    }
   ],
   "source": [
    "X_train['GROSS SQUARE FEET'].median()"
   ]
  },
  {
   "cell_type": "code",
   "execution_count": 43,
   "metadata": {},
   "outputs": [],
   "source": [
    "test_df['GROSS SQUARE FEET'].fillna(530725.0,inplace=True)"
   ]
  },
  {
   "cell_type": "code",
   "execution_count": null,
   "metadata": {},
   "outputs": [],
   "source": []
  },
  {
   "cell_type": "code",
   "execution_count": null,
   "metadata": {},
   "outputs": [],
   "source": []
  },
  {
   "cell_type": "code",
   "execution_count": 44,
   "metadata": {},
   "outputs": [],
   "source": [
    "neighborhoods = test_df['NEIGHBORHOOD'].unique()\n",
    "neighborhoods_series = pd.Series(neighborhoods)\n",
    "neighborhoods_cat = neighborhoods_series.astype('category')"
   ]
  },
  {
   "cell_type": "code",
   "execution_count": 45,
   "metadata": {},
   "outputs": [],
   "source": [
    "#try to label encode neighborhood\n",
    "from sklearn.preprocessing import LabelEncoder\n",
    "lb_make = LabelEncoder()\n",
    "\n",
    "neighborhood_encode = lb_make.fit(neighborhoods_cat)\n",
    "\n",
    "test_df['NEIGHBORHOOD'] = neighborhood_encode.transform(test_df['NEIGHBORHOOD'])"
   ]
  },
  {
   "cell_type": "code",
   "execution_count": 46,
   "metadata": {},
   "outputs": [
    {
     "data": {
      "text/html": [
       "<div>\n",
       "<style scoped>\n",
       "    .dataframe tbody tr th:only-of-type {\n",
       "        vertical-align: middle;\n",
       "    }\n",
       "\n",
       "    .dataframe tbody tr th {\n",
       "        vertical-align: top;\n",
       "    }\n",
       "\n",
       "    .dataframe thead th {\n",
       "        text-align: right;\n",
       "    }\n",
       "</style>\n",
       "<table border=\"1\" class=\"dataframe\">\n",
       "  <thead>\n",
       "    <tr style=\"text-align: right;\">\n",
       "      <th></th>\n",
       "      <th>NEIGHBORHOOD</th>\n",
       "      <th>YEAR BUILT</th>\n",
       "      <th>GROSS SQUARE FEET</th>\n",
       "    </tr>\n",
       "  </thead>\n",
       "  <tbody>\n",
       "    <tr>\n",
       "      <th>0</th>\n",
       "      <td>16</td>\n",
       "      <td>1960</td>\n",
       "      <td>2145</td>\n",
       "    </tr>\n",
       "    <tr>\n",
       "      <th>1</th>\n",
       "      <td>11</td>\n",
       "      <td>1960</td>\n",
       "      <td>2880</td>\n",
       "    </tr>\n",
       "    <tr>\n",
       "      <th>2</th>\n",
       "      <td>86</td>\n",
       "      <td>1973</td>\n",
       "      <td>530725</td>\n",
       "    </tr>\n",
       "    <tr>\n",
       "      <th>3</th>\n",
       "      <td>7</td>\n",
       "      <td>0</td>\n",
       "      <td>530725</td>\n",
       "    </tr>\n",
       "    <tr>\n",
       "      <th>4</th>\n",
       "      <td>147</td>\n",
       "      <td>1930</td>\n",
       "      <td>3129</td>\n",
       "    </tr>\n",
       "    <tr>\n",
       "      <th>...</th>\n",
       "      <td>...</td>\n",
       "      <td>...</td>\n",
       "      <td>...</td>\n",
       "    </tr>\n",
       "    <tr>\n",
       "      <th>14950</th>\n",
       "      <td>238</td>\n",
       "      <td>0</td>\n",
       "      <td>0</td>\n",
       "    </tr>\n",
       "    <tr>\n",
       "      <th>14951</th>\n",
       "      <td>145</td>\n",
       "      <td>2014</td>\n",
       "      <td>530725</td>\n",
       "    </tr>\n",
       "    <tr>\n",
       "      <th>14952</th>\n",
       "      <td>191</td>\n",
       "      <td>1975</td>\n",
       "      <td>530725</td>\n",
       "    </tr>\n",
       "    <tr>\n",
       "      <th>14953</th>\n",
       "      <td>101</td>\n",
       "      <td>1900</td>\n",
       "      <td>530725</td>\n",
       "    </tr>\n",
       "    <tr>\n",
       "      <th>14954</th>\n",
       "      <td>199</td>\n",
       "      <td>1952</td>\n",
       "      <td>0</td>\n",
       "    </tr>\n",
       "  </tbody>\n",
       "</table>\n",
       "<p>14955 rows × 3 columns</p>\n",
       "</div>"
      ],
      "text/plain": [
       "       NEIGHBORHOOD  YEAR BUILT GROSS SQUARE FEET\n",
       "0                16        1960              2145\n",
       "1                11        1960              2880\n",
       "2                86        1973            530725\n",
       "3                 7           0            530725\n",
       "4               147        1930              3129\n",
       "...             ...         ...               ...\n",
       "14950           238           0                 0\n",
       "14951           145        2014            530725\n",
       "14952           191        1975            530725\n",
       "14953           101        1900            530725\n",
       "14954           199        1952                 0\n",
       "\n",
       "[14955 rows x 3 columns]"
      ]
     },
     "execution_count": 46,
     "metadata": {},
     "output_type": "execute_result"
    }
   ],
   "source": [
    "#new train test set\n",
    "preds = ['NEIGHBORHOOD','YEAR BUILT','GROSS SQUARE FEET']\n",
    "\n",
    "test_X = test_df[preds]\n",
    "\n",
    "test_X"
   ]
  },
  {
   "cell_type": "code",
   "execution_count": 47,
   "metadata": {},
   "outputs": [],
   "source": [
    "final_pred = linreg.predict(test_X)"
   ]
  },
  {
   "cell_type": "code",
   "execution_count": 50,
   "metadata": {},
   "outputs": [],
   "source": [
    "test_df['target'] = final_pred\n",
    "submission_df = test_df[['id', 'target']]"
   ]
  },
  {
   "cell_type": "code",
   "execution_count": 51,
   "metadata": {},
   "outputs": [
    {
     "data": {
      "text/plain": [
       "(14955, 2)"
      ]
     },
     "execution_count": 51,
     "metadata": {},
     "output_type": "execute_result"
    }
   ],
   "source": [
    "submission_df.shape"
   ]
  },
  {
   "cell_type": "code",
   "execution_count": 52,
   "metadata": {},
   "outputs": [],
   "source": [
    "submission_df.to_csv('Warren_Jordan_submission.csv', index=False)"
   ]
  },
  {
   "cell_type": "code",
   "execution_count": null,
   "metadata": {},
   "outputs": [],
   "source": []
  },
  {
   "cell_type": "code",
   "execution_count": null,
   "metadata": {},
   "outputs": [],
   "source": []
  },
  {
   "cell_type": "code",
   "execution_count": null,
   "metadata": {},
   "outputs": [],
   "source": []
  }
 ],
 "metadata": {
  "kernelspec": {
   "display_name": "learn-env",
   "language": "python",
   "name": "learn-env"
  },
  "language_info": {
   "codemirror_mode": {
    "name": "ipython",
    "version": 3
   },
   "file_extension": ".py",
   "mimetype": "text/x-python",
   "name": "python",
   "nbconvert_exporter": "python",
   "pygments_lexer": "ipython3",
   "version": "3.8.5"
  }
 },
 "nbformat": 4,
 "nbformat_minor": 4
}
