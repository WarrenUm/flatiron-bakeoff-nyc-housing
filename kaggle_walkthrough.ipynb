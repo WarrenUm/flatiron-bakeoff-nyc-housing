{
 "cells": [
  {
   "cell_type": "markdown",
   "metadata": {},
   "source": [
    "# Kaggle Starter Code"
   ]
  },
  {
   "cell_type": "markdown",
   "metadata": {},
   "source": [
    "## Develop a model"
   ]
  },
  {
   "cell_type": "markdown",
   "metadata": {},
   "source": [
    "**Import Packages**"
   ]
  },
  {
   "cell_type": "code",
   "execution_count": null,
   "metadata": {},
   "outputs": [],
   "source": [
    "import pandas as pd\n",
    "import numpy as np\n",
    "import matplotlib.pyplot as plt\n",
    "from sklearn.linear_model import LinearRegression\n",
    "from sklearn.impute import SimpleImputer\n",
    "from sklearn.metrics import mean_squared_error\n",
    "from sklearn.model_selection import train_test_split\n",
    "\n",
    "import warnings\n",
    "warnings.filterwarnings(\"ignore\")"
   ]
  },
  {
   "cell_type": "markdown",
   "metadata": {},
   "source": [
    "**Read in training data**"
   ]
  },
  {
   "cell_type": "code",
   "execution_count": 2,
   "metadata": {},
   "outputs": [],
   "source": [
    "df = pd.read_csv('flatiron-regression-housing/training.csv')"
   ]
  },
  {
   "cell_type": "markdown",
   "metadata": {},
   "source": [
    "**Preprocessing**"
   ]
  },
  {
   "cell_type": "code",
   "execution_count": 3,
   "metadata": {},
   "outputs": [],
   "source": [
    "# Null values are marked with the string ' -  '\n",
    "# Replace this string with null values\n",
    "df = df.replace(' -  ', np.nan)\n",
    "# Drop null target values\n",
    "df = df.dropna(subset=['SALE PRICE'])"
   ]
  },
  {
   "cell_type": "markdown",
   "metadata": {},
   "source": [
    "**Fix datatypes**"
   ]
  },
  {
   "cell_type": "code",
   "execution_count": 4,
   "metadata": {},
   "outputs": [
    {
     "data": {
      "text/plain": [
       "id                                 int64\n",
       "BOROUGH                            int64\n",
       "NEIGHBORHOOD                      object\n",
       "BUILDING CLASS CATEGORY           object\n",
       "TAX CLASS AT PRESENT              object\n",
       "BLOCK                              int64\n",
       "LOT                                int64\n",
       "EASE-MENT                         object\n",
       "BUILDING CLASS AT PRESENT         object\n",
       "ADDRESS                           object\n",
       "APARTMENT NUMBER                  object\n",
       "ZIP CODE                           int64\n",
       "RESIDENTIAL UNITS                  int64\n",
       "COMMERCIAL UNITS                   int64\n",
       "TOTAL UNITS                        int64\n",
       "LAND SQUARE FEET                  object\n",
       "GROSS SQUARE FEET                 object\n",
       "YEAR BUILT                         int64\n",
       "TAX CLASS AT TIME OF SALE          int64\n",
       "BUILDING CLASS AT TIME OF SALE    object\n",
       "SALE DATE                         object\n",
       "SALE PRICE                        object\n",
       "dtype: object"
      ]
     },
     "execution_count": 4,
     "metadata": {},
     "output_type": "execute_result"
    }
   ],
   "source": [
    "df.dtypes"
   ]
  },
  {
   "cell_type": "markdown",
   "metadata": {},
   "source": [
    "For this walkthrough, we will just use square footage as the independent variable. \n",
    "\n",
    "Let's convert to a float datatype."
   ]
  },
  {
   "cell_type": "code",
   "execution_count": 5,
   "metadata": {},
   "outputs": [],
   "source": [
    "df['LAND SQUARE FEET'] = df['LAND SQUARE FEET'].astype(float)"
   ]
  },
  {
   "cell_type": "markdown",
   "metadata": {},
   "source": [
    "Imputer null values of indepedent variable. "
   ]
  },
  {
   "cell_type": "markdown",
   "metadata": {},
   "source": [
    "**Create a train test split**"
   ]
  },
  {
   "cell_type": "code",
   "execution_count": 6,
   "metadata": {},
   "outputs": [],
   "source": [
    "model_1_df = df.copy()\n",
    "X_1, y_1 = model_1_df[['LAND SQUARE FEET']], model_1_df['SALE PRICE']\n",
    "X_train, X_test, y_train, y_test = train_test_split(X_1, y_1, random_state=2021)"
   ]
  },
  {
   "cell_type": "code",
   "execution_count": 7,
   "metadata": {},
   "outputs": [],
   "source": [
    "# Replace missing values with the median\n",
    "imputer = SimpleImputer(strategy='median')\n",
    "# Fit imputer to the indepedent variable\n",
    "# using only the training data\n",
    "imputer.fit(X_train)\n",
    "# Replace missing values in the training and test data\n",
    "X_train = imputer.transform(X_train)\n",
    "X_test = imputer.transform(X_test)"
   ]
  },
  {
   "cell_type": "markdown",
   "metadata": {},
   "source": [
    "**Fit a model**"
   ]
  },
  {
   "cell_type": "code",
   "execution_count": 8,
   "metadata": {},
   "outputs": [
    {
     "data": {
      "text/plain": [
       "LinearRegression()"
      ]
     },
     "execution_count": 8,
     "metadata": {},
     "output_type": "execute_result"
    }
   ],
   "source": [
    "model_1 = LinearRegression()\n",
    "model_1.fit(X_train, y_train)"
   ]
  },
  {
   "cell_type": "markdown",
   "metadata": {},
   "source": [
    "**Evaluate model performance**"
   ]
  },
  {
   "cell_type": "code",
   "execution_count": 9,
   "metadata": {},
   "outputs": [
    {
     "name": "stdout",
     "output_type": "stream",
     "text": [
      "Train score: 36809480181468.875\n",
      "Test score: 99138629509997.28\n"
     ]
    }
   ],
   "source": [
    "train_preds = model_1.predict(X_train)\n",
    "test_preds = model_1.predict(X_test)\n",
    "\n",
    "train_score = mean_squared_error(y_train, train_preds)\n",
    "test_score = mean_squared_error(y_test, test_preds)\n",
    "\n",
    "print('Train score:', train_score)\n",
    "print('Test score:', test_score)"
   ]
  },
  {
   "cell_type": "code",
   "execution_count": 10,
   "metadata": {},
   "outputs": [
    {
     "data": {
      "image/png": "[encoded data removed]",
      "text/plain": [
       "<Figure size 432x288 with 1 Axes>"
      ]
     },
     "metadata": {
      "needs_background": "light"
     },
     "output_type": "display_data"
    }
   ],
   "source": [
    "plt.bar(['Train', 'Test'], [train_score, test_score])\n",
    "plt.ylabel('Error')\n",
    "plt.title('First Model');"
   ]
  },
  {
   "cell_type": "markdown",
   "metadata": {},
   "source": [
    "## Create submission predictions\n",
    "\n",
    "Kaggle competitions will always provide you with a `test` dataset that contains all of the independent variables in the training data, *but does not contain the target column.* \n",
    "\n",
    "The idea is that you want to build a model using the training data so it can predict accurately when we do not know the target value."
   ]
  },
  {
   "cell_type": "markdown",
   "metadata": {},
   "source": [
    "**Import testing data**"
   ]
  },
  {
   "cell_type": "code",
   "execution_count": 11,
   "metadata": {},
   "outputs": [],
   "source": [
    "test_df = pd.read_csv('flatiron-regression-housing/testing.csv')"
   ]
  },
  {
   "cell_type": "code",
   "execution_count": 12,
   "metadata": {},
   "outputs": [
    {
     "data": {
      "text/html": [
       "<div>\n",
       "<style scoped>\n",
       "    .dataframe tbody tr th:only-of-type {\n",
       "        vertical-align: middle;\n",
       "    }\n",
       "\n",
       "    .dataframe tbody tr th {\n",
       "        vertical-align: top;\n",
       "    }\n",
       "\n",
       "    .dataframe thead th {\n",
       "        text-align: right;\n",
       "    }\n",
       "</style>\n",
       "<table border=\"1\" class=\"dataframe\">\n",
       "  <thead>\n",
       "    <tr style=\"text-align: right;\">\n",
       "      <th></th>\n",
       "      <th>id</th>\n",
       "      <th>BOROUGH</th>\n",
       "      <th>NEIGHBORHOOD</th>\n",
       "      <th>BUILDING CLASS CATEGORY</th>\n",
       "      <th>TAX CLASS AT PRESENT</th>\n",
       "      <th>BLOCK</th>\n",
       "      <th>LOT</th>\n",
       "      <th>EASE-MENT</th>\n",
       "      <th>BUILDING CLASS AT PRESENT</th>\n",
       "      <th>ADDRESS</th>\n",
       "      <th>...</th>\n",
       "      <th>ZIP CODE</th>\n",
       "      <th>RESIDENTIAL UNITS</th>\n",
       "      <th>COMMERCIAL UNITS</th>\n",
       "      <th>TOTAL UNITS</th>\n",
       "      <th>LAND SQUARE FEET</th>\n",
       "      <th>GROSS SQUARE FEET</th>\n",
       "      <th>YEAR BUILT</th>\n",
       "      <th>TAX CLASS AT TIME OF SALE</th>\n",
       "      <th>BUILDING CLASS AT TIME OF SALE</th>\n",
       "      <th>SALE DATE</th>\n",
       "    </tr>\n",
       "  </thead>\n",
       "  <tbody>\n",
       "    <tr>\n",
       "      <th>0</th>\n",
       "      <td>52192</td>\n",
       "      <td>4</td>\n",
       "      <td>BELLE HARBOR</td>\n",
       "      <td>01 ONE FAMILY DWELLINGS</td>\n",
       "      <td>1</td>\n",
       "      <td>16261</td>\n",
       "      <td>68</td>\n",
       "      <td></td>\n",
       "      <td>A2</td>\n",
       "      <td>446 BEACH 139TH STREET</td>\n",
       "      <td>...</td>\n",
       "      <td>11694</td>\n",
       "      <td>1</td>\n",
       "      <td>0</td>\n",
       "      <td>1</td>\n",
       "      <td>4000</td>\n",
       "      <td>2145</td>\n",
       "      <td>1960</td>\n",
       "      <td>1</td>\n",
       "      <td>A2</td>\n",
       "      <td>2017-06-21 00:00:00</td>\n",
       "    </tr>\n",
       "    <tr>\n",
       "      <th>1</th>\n",
       "      <td>18587</td>\n",
       "      <td>2</td>\n",
       "      <td>BAYCHESTER</td>\n",
       "      <td>02 TWO FAMILY DWELLINGS</td>\n",
       "      <td>1</td>\n",
       "      <td>4775</td>\n",
       "      <td>41</td>\n",
       "      <td></td>\n",
       "      <td>B1</td>\n",
       "      <td>3026 WICKHAM AVENUE</td>\n",
       "      <td>...</td>\n",
       "      <td>10469</td>\n",
       "      <td>2</td>\n",
       "      <td>0</td>\n",
       "      <td>2</td>\n",
       "      <td>2700</td>\n",
       "      <td>2880</td>\n",
       "      <td>1960</td>\n",
       "      <td>1</td>\n",
       "      <td>B1</td>\n",
       "      <td>2017-06-30 00:00:00</td>\n",
       "    </tr>\n",
       "  </tbody>\n",
       "</table>\n",
       "<p>2 rows × 21 columns</p>\n",
       "</div>"
      ],
      "text/plain": [
       "      id  BOROUGH  NEIGHBORHOOD                      BUILDING CLASS CATEGORY  \\\n",
       "0  52192        4  BELLE HARBOR  01 ONE FAMILY DWELLINGS                       \n",
       "1  18587        2    BAYCHESTER  02 TWO FAMILY DWELLINGS                       \n",
       "\n",
       "  TAX CLASS AT PRESENT  BLOCK  LOT EASE-MENT BUILDING CLASS AT PRESENT  \\\n",
       "0                    1  16261   68                                  A2   \n",
       "1                    1   4775   41                                  B1   \n",
       "\n",
       "                  ADDRESS  ... ZIP CODE  RESIDENTIAL UNITS  COMMERCIAL UNITS  \\\n",
       "0  446 BEACH 139TH STREET  ...    11694                  1                 0   \n",
       "1     3026 WICKHAM AVENUE  ...    10469                  2                 0   \n",
       "\n",
       "   TOTAL UNITS  LAND SQUARE FEET GROSS SQUARE FEET YEAR BUILT  \\\n",
       "0            1              4000              2145       1960   \n",
       "1            2              2700              2880       1960   \n",
       "\n",
       "   TAX CLASS AT TIME OF SALE  BUILDING CLASS AT TIME OF SALE  \\\n",
       "0                          1                              A2   \n",
       "1                          1                              B1   \n",
       "\n",
       "             SALE DATE  \n",
       "0  2017-06-21 00:00:00  \n",
       "1  2017-06-30 00:00:00  \n",
       "\n",
       "[2 rows x 21 columns]"
      ]
     },
     "execution_count": 12,
     "metadata": {},
     "output_type": "execute_result"
    }
   ],
   "source": [
    "test_df.head(2)"
   ]
  },
  {
   "cell_type": "code",
   "execution_count": 13,
   "metadata": {},
   "outputs": [],
   "source": [
    "test_df = test_df.replace(' -  ', np.nan)"
   ]
  },
  {
   "cell_type": "markdown",
   "metadata": {},
   "source": [
    "**Repeat the same preprocessing**"
   ]
  },
  {
   "cell_type": "code",
   "execution_count": 14,
   "metadata": {},
   "outputs": [],
   "source": [
    "test_X = test_df[['LAND SQUARE FEET']]\n",
    "\n",
    "test_X = imputer.transform(test_X)"
   ]
  },
  {
   "cell_type": "markdown",
   "metadata": {},
   "source": [
    "**Create final predictions**"
   ]
  },
  {
   "cell_type": "code",
   "execution_count": 15,
   "metadata": {},
   "outputs": [],
   "source": [
    "final_preds = model_1.predict(test_X)"
   ]
  },
  {
   "cell_type": "markdown",
   "metadata": {},
   "source": [
    "**Save predictions**\n",
    "\n",
    "*The kaggle competition provides the following instructions for submitting predictions:*\n",
    "\n",
    "----------\n",
    "\n",
    "Your submission should be in the form a csv file with two columns. \n",
    "1. `id`\n",
    "2. `target`\n",
    "\n",
    "The `id` column should be the `id` column found in the predictors dataset.\n",
    "\n",
    "**For example,** if I were to submit a csv of predictions where I predict the mean for every observations, the first three rows of the submission would look like this:\n",
    "\n",
    "| id    | target  |\n",
    "|-------|---------|\n",
    "| 25427 | 1294634 |\n",
    "| 71461 | 1294634 |\n",
    "| 20636 | 1294634 |\n",
    "\n",
    "\n",
    "***It is recommended that you save your predictions to csv using `pd.to_csv` and that you import the saved file into a notebook, to make sure the file is structured as intended.***\n",
    "\n",
    "--------\n",
    "\n",
    "The easiest way to do this, is to add the predictions to the original dataframe and then isolate the columns we want. "
   ]
  },
  {
   "cell_type": "code",
   "execution_count": 16,
   "metadata": {},
   "outputs": [],
   "source": [
    "# Add predictions to the test dataframe\n",
    "test_df['target'] = final_preds\n",
    "# Isolate the columns we want in our submission\n",
    "submission_df = test_df[['id', 'target']]"
   ]
  },
  {
   "cell_type": "markdown",
   "metadata": {},
   "source": [
    "Check the shape. The shape of our submission *must* be `(14955, 2)`"
   ]
  },
  {
   "cell_type": "code",
   "execution_count": 18,
   "metadata": {},
   "outputs": [
    {
     "data": {
      "text/plain": [
       "(14955, 2)"
      ]
     },
     "execution_count": 18,
     "metadata": {},
     "output_type": "execute_result"
    }
   ],
   "source": [
    "submission_df.shape"
   ]
  },
  {
   "cell_type": "markdown",
   "metadata": {},
   "source": [
    "**Now we just need to save the submission to a `.csv` file.**\n",
    "\n",
    "In this case, you should set `index=False`."
   ]
  },
  {
   "cell_type": "code",
   "execution_count": 19,
   "metadata": {},
   "outputs": [],
   "source": [
    "submission_df.to_csv('joél_submission.csv', index=False)"
   ]
  },
  {
   "cell_type": "markdown",
   "metadata": {},
   "source": [
    "## Submit Predictions\n",
    "\n",
    "Once you have saved you predictions to a csv file, you can submit them [here](https://www.kaggle.com/c/flatiron-regression-housing/submit)"
   ]
  }
 ],
 "metadata": {
  "kernelspec": {
   "display_name": "Python 3",
   "language": "python",
   "name": "python3"
  },
  "language_info": {
   "codemirror_mode": {
    "name": "ipython",
    "version": 3
   },
   "file_extension": ".py",
   "mimetype": "text/x-python",
   "name": "python",
   "nbconvert_exporter": "python",
   "pygments_lexer": "ipython3",
   "version": "3.8.5"
  }
 },
 "nbformat": 4,
 "nbformat_minor": 4
}
